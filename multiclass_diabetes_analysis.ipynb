{
  "nbformat": 4,
  "nbformat_minor": 0,
  "metadata": {
    "colab": {
      "provenance": [],
      "authorship_tag": "ABX9TyNGpxAFckt8crUaYzP/AcK/",
      "include_colab_link": true
    },
    "kernelspec": {
      "name": "python3",
      "display_name": "Python 3"
    },
    "language_info": {
      "name": "python"
    }
  },
  "cells": [
    {
      "cell_type": "markdown",
      "metadata": {
        "id": "view-in-github",
        "colab_type": "text"
      },
      "source": [
        "<a href=\"https://colab.research.google.com/github/saraalharthi357/multiclass_diabetes_analysis/blob/main/multiclass_diabetes_analysis.ipynb\" target=\"_parent\"><img src=\"https://colab.research.google.com/assets/colab-badge.svg\" alt=\"Open In Colab\"/></a>"
      ]
    },
    {
      "cell_type": "markdown",
      "source": [
        "# 1. Initialization"
      ],
      "metadata": {
        "id": "yoglrARe1__K"
      }
    },
    {
      "cell_type": "code",
      "execution_count": null,
      "metadata": {
        "id": "VvHgYuW8srir"
      },
      "outputs": [],
      "source": []
    },
    {
      "cell_type": "markdown",
      "source": [
        "# 2. Loading the Dataset"
      ],
      "metadata": {
        "id": "BVfzVkY72FOW"
      }
    },
    {
      "cell_type": "code",
      "source": [],
      "metadata": {
        "id": "MI2qL4au2JYD"
      },
      "execution_count": null,
      "outputs": []
    },
    {
      "cell_type": "markdown",
      "source": [
        "# 3. Exploring the Dataset"
      ],
      "metadata": {
        "id": "P49w8SNN2Jul"
      }
    },
    {
      "cell_type": "code",
      "source": [],
      "metadata": {
        "id": "6GbmzERs2PDl"
      },
      "execution_count": null,
      "outputs": []
    }
  ]
}